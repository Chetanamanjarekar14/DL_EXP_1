{
  "cells": [
    {
      "cell_type": "code",
      "execution_count": 1,
      "metadata": {
        "id": "IntD4DWdJIDw"
      },
      "outputs": [],
      "source": [
        "#Apply any of the following learning algorithms to learn the parameters of the supervised single layer feed forward neural network.\n",
        "#a. Stochastic Gradient Descent\n",
        "#b. Mini Batch Gradient Descent\n"
      ]
    },
    {
      "cell_type": "code",
      "execution_count": 1,
      "metadata": {
        "id": "tmGU6qykJ1Fq"
      },
      "outputs": [],
      "source": [
        "#Stochastic Gradient Descent\n",
        "import numpy as np"
      ]
    },
    {
      "cell_type": "code",
      "execution_count": 2,
      "metadata": {
        "id": "NihZku5QL58_"
      },
      "outputs": [],
      "source": [
        "def sigmoid(x):\n",
        "  return 1/(1+np.exp(-x))"
      ]
    },
    {
      "cell_type": "code",
      "execution_count": 3,
      "metadata": {
        "id": "ATXlgE6YMJ39"
      },
      "outputs": [],
      "source": [
        "def single_layer_neural_network(X,W,b):\n",
        "  return sigmoid(np.dot(X,W)+b)"
      ]
    },
    {
      "cell_type": "code",
      "execution_count": 7,
      "metadata": {
        "id": "TEqnvdmMMd2v"
      },
      "outputs": [],
      "source": [
        "def SGD(X,y,learning_rate=0.01,epochs=100):\n",
        "  num_samples, num_features = X.shape\n",
        "  W = np.random.randn(num_features, 1)\n",
        "  b = np.random.randn()\n",
        "\n",
        "  for epoch in range(epochs):\n",
        "    for i in range(num_samples):\n",
        "      xi = X[i].reshape(-1,1)\n",
        "      yi = y[i]\n",
        "\n",
        "      z = np.dot(xi.T,W) + b\n",
        "      a = sigmoid(z)\n",
        "\n",
        "      #Calculate gradients\n",
        "      dW = xi * (a-yi)\n",
        "      db = a - yi\n",
        "\n",
        "      #Update weights and bias\n",
        "      W -= learning_rate * dW\n",
        "      b -= learning_rate * db\n",
        "\n",
        "  return W,b"
      ]
    },
    {
      "cell_type": "code",
      "execution_count": 8,
      "metadata": {
        "id": "ksqhQTBPPOui"
      },
      "outputs": [],
      "source": [
        "X_train = np.array([[0,0],[0,1],[1,0],[1,1]])\n",
        "y_train = np.array([0,1,1,0])\n",
        "W_optimal, b_optimal = SGD(X_train,y_train)"
      ]
    },
    {
      "cell_type": "code",
      "execution_count": 9,
      "metadata": {
        "colab": {
          "base_uri": "https://localhost:8080/"
        },
        "id": "SBixxcFbP7xB",
        "outputId": "0977aa6a-99b6-45bf-b452-e956efde4239"
      },
      "outputs": [
        {
          "name": "stdout",
          "output_type": "stream",
          "text": [
            "Optimal weights:  [[0.18752744]\n",
            " [0.96123124]]\n",
            "Optimal bias:  [[-0.14526038]]\n"
          ]
        }
      ],
      "source": [
        "print(\"Optimal weights: \",W_optimal)\n",
        "print(\"Optimal bias: \",b_optimal)"
      ]
    },
    {
      "cell_type": "code",
      "execution_count": 10,
      "metadata": {
        "id": "2jf2f4FtQOw_"
      },
      "outputs": [],
      "source": [
        "#Mini Batch Gradient Descent\n",
        "import numpy as np"
      ]
    },
    {
      "cell_type": "code",
      "execution_count": 11,
      "metadata": {
        "id": "Pux4hyseSfLx"
      },
      "outputs": [],
      "source": [
        "#Features\n",
        "X = np.array([[0,0],[0,1],[1,0],[1,1]])\n",
        "\n",
        "#Labels\n",
        "y = np.array([0,1,1,0])\n",
        "\n",
        "#Initialize parameters\n",
        "input_size = 2\n",
        "output_size = 1\n",
        "learning_rate = 0.01\n",
        "batch_size = 4\n",
        "epochs = 100\n",
        "\n",
        "#Initialize weights and bias\n",
        "weights = np.random.rand(input_size)\n",
        "bias = np.random.rand()"
      ]
    },
    {
      "cell_type": "code",
      "execution_count": 12,
      "metadata": {
        "colab": {
          "base_uri": "https://localhost:8080/"
        },
        "id": "zB4aSSriUADK",
        "outputId": "c9cef232-30a0-4177-cad9-91e43e8ae9d5"
      },
      "outputs": [
        {
          "name": "stdout",
          "output_type": "stream",
          "text": [
            "Epoch 0/100, Loss:  0.7716\n",
            "Training completed\n",
            "Weight:  [0.09786942 0.53440871]\n",
            "Bias:  0.18274766628757932\n"
          ]
        }
      ],
      "source": [
        "#Mini batch gradient descent\n",
        "for epoch in range(epochs):\n",
        "  for i in range(0, len(X), batch_size):\n",
        "    X_batch = X[i:i+batch_size]\n",
        "    y_batch = y[i:i+batch_size]\n",
        "\n",
        "    #Forward pass\n",
        "    z = np.dot(X_batch, weights) + bias\n",
        "    predictions = 1/(1+np.exp(-z))\n",
        "\n",
        "    #Compute gradients\n",
        "    error = predictions - y_batch\n",
        "    gradient_weights = np.dot(X_batch.T, error)/batch_size\n",
        "    gradient_bias = np.sum(error)/batch_size\n",
        "\n",
        "    #Update weight and bias\n",
        "    weights -= learning_rate * gradient_weights\n",
        "    bias -= learning_rate * gradient_bias\n",
        "\n",
        "  if epoch % 1000 == 0:\n",
        "    loss = np.mean(-y_batch * np.log(predictions) - (1 - y_batch) * np.log(1 - predictions))\n",
        "    print(f\"Epoch {epoch}/{epochs}, Loss: {loss: .4f}\")\n",
        "\n",
        "\n",
        "print(\"Training completed\")\n",
        "print(\"Weight: \",weights)\n",
        "print(\"Bias: \",bias)"
      ]
    },
    {
      "cell_type": "code",
      "execution_count": null,
      "metadata": {
        "id": "8IZQKMmgWz6B"
      },
      "outputs": [],
      "source": []
    }
  ],
  "metadata": {
    "colab": {
      "provenance": []
    },
    "kernelspec": {
      "display_name": "Python 3",
      "name": "python3"
    },
    "language_info": {
      "codemirror_mode": {
        "name": "ipython",
        "version": 3
      },
      "file_extension": ".py",
      "mimetype": "text/x-python",
      "name": "python",
      "nbconvert_exporter": "python",
      "pygments_lexer": "ipython3",
      "version": "3.11.4"
    }
  },
  "nbformat": 4,
  "nbformat_minor": 0
}
